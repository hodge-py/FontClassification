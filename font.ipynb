{
 "cells": [
  {
   "cell_type": "code",
   "id": "initial_id",
   "metadata": {
    "collapsed": true,
    "ExecuteTime": {
     "end_time": "2024-10-01T22:13:29.650826Z",
     "start_time": "2024-10-01T22:13:29.646144Z"
    }
   },
   "source": [
    "import tensorflow as tf\n",
    "import pandas as pd\n",
    "# Helper libraries\n",
    "import numpy as np\n",
    "import matplotlib.pyplot as plt\n",
    "from sklearn.model_selection import train_test_split\n",
    "from sklearn.preprocessing import LabelEncoder\n",
    "import glob\n",
    "\n",
    "print(tf.__version__)"
   ],
   "outputs": [
    {
     "name": "stdout",
     "output_type": "stream",
     "text": [
      "2.17.0\n"
     ]
    }
   ],
   "execution_count": 40
  },
  {
   "metadata": {
    "ExecuteTime": {
     "end_time": "2024-10-01T22:13:30.605174Z",
     "start_time": "2024-10-01T22:13:30.218569Z"
    }
   },
   "cell_type": "code",
   "source": [
    "\"\"\"\n",
    "csv_files = glob.glob('*.{}'.format('csv'),root_dir=\"./fonts\")\n",
    "for file in csv_files:\n",
    "    df_csv_append = pd.read_csv(\"./fonts/\" + file)\n",
    "    df = pd.concat([df,df_csv_append], ignore_index=True)\n",
    "\"\"\"\n",
    "df = pd.read_csv(\"fonts_cleaned.csv\",index_col=0)"
   ],
   "id": "9e83fb10ad6c3a04",
   "outputs": [],
   "execution_count": 41
  },
  {
   "metadata": {
    "ExecuteTime": {
     "end_time": "2024-10-01T22:13:31.487461Z",
     "start_time": "2024-10-01T22:13:31.475914Z"
    }
   },
   "cell_type": "code",
   "source": "df.head()",
   "id": "f492696bca1b8a56",
   "outputs": [
    {
     "data": {
      "text/plain": [
       "       fonts  index    0    1    2    3    4    5    6    7  ...  1014  1015  \\\n",
       "0  Arial.ttf      0  255  255  255  255  255  255  255  255  ...   255   255   \n",
       "1  Arial.ttf      0  255  255  255  255  255  255  255  255  ...   255   255   \n",
       "2  Arial.ttf      0  255  255  255  255  255  255  255  255  ...   255   255   \n",
       "3  Arial.ttf      0  243  255  255  255  255  255  255  254  ...   255   255   \n",
       "4  Arial.ttf      0  255  255  255  255  255  255  255  255  ...   255   255   \n",
       "\n",
       "   1016  1017  1018  1019  1020  1021  1022  1023  \n",
       "0   255   255   255   255   255   255   255   255  \n",
       "1   255   255   255   255   255   255   255   255  \n",
       "2   255   255   255   255   255   255   255   255  \n",
       "3   255   255   255   255   255   255   255   255  \n",
       "4   255   255   255   255   255   255   255   255  \n",
       "\n",
       "[5 rows x 1026 columns]"
      ],
      "text/html": [
       "<div>\n",
       "<style scoped>\n",
       "    .dataframe tbody tr th:only-of-type {\n",
       "        vertical-align: middle;\n",
       "    }\n",
       "\n",
       "    .dataframe tbody tr th {\n",
       "        vertical-align: top;\n",
       "    }\n",
       "\n",
       "    .dataframe thead th {\n",
       "        text-align: right;\n",
       "    }\n",
       "</style>\n",
       "<table border=\"1\" class=\"dataframe\">\n",
       "  <thead>\n",
       "    <tr style=\"text-align: right;\">\n",
       "      <th></th>\n",
       "      <th>fonts</th>\n",
       "      <th>index</th>\n",
       "      <th>0</th>\n",
       "      <th>1</th>\n",
       "      <th>2</th>\n",
       "      <th>3</th>\n",
       "      <th>4</th>\n",
       "      <th>5</th>\n",
       "      <th>6</th>\n",
       "      <th>7</th>\n",
       "      <th>...</th>\n",
       "      <th>1014</th>\n",
       "      <th>1015</th>\n",
       "      <th>1016</th>\n",
       "      <th>1017</th>\n",
       "      <th>1018</th>\n",
       "      <th>1019</th>\n",
       "      <th>1020</th>\n",
       "      <th>1021</th>\n",
       "      <th>1022</th>\n",
       "      <th>1023</th>\n",
       "    </tr>\n",
       "  </thead>\n",
       "  <tbody>\n",
       "    <tr>\n",
       "      <th>0</th>\n",
       "      <td>Arial.ttf</td>\n",
       "      <td>0</td>\n",
       "      <td>255</td>\n",
       "      <td>255</td>\n",
       "      <td>255</td>\n",
       "      <td>255</td>\n",
       "      <td>255</td>\n",
       "      <td>255</td>\n",
       "      <td>255</td>\n",
       "      <td>255</td>\n",
       "      <td>...</td>\n",
       "      <td>255</td>\n",
       "      <td>255</td>\n",
       "      <td>255</td>\n",
       "      <td>255</td>\n",
       "      <td>255</td>\n",
       "      <td>255</td>\n",
       "      <td>255</td>\n",
       "      <td>255</td>\n",
       "      <td>255</td>\n",
       "      <td>255</td>\n",
       "    </tr>\n",
       "    <tr>\n",
       "      <th>1</th>\n",
       "      <td>Arial.ttf</td>\n",
       "      <td>0</td>\n",
       "      <td>255</td>\n",
       "      <td>255</td>\n",
       "      <td>255</td>\n",
       "      <td>255</td>\n",
       "      <td>255</td>\n",
       "      <td>255</td>\n",
       "      <td>255</td>\n",
       "      <td>255</td>\n",
       "      <td>...</td>\n",
       "      <td>255</td>\n",
       "      <td>255</td>\n",
       "      <td>255</td>\n",
       "      <td>255</td>\n",
       "      <td>255</td>\n",
       "      <td>255</td>\n",
       "      <td>255</td>\n",
       "      <td>255</td>\n",
       "      <td>255</td>\n",
       "      <td>255</td>\n",
       "    </tr>\n",
       "    <tr>\n",
       "      <th>2</th>\n",
       "      <td>Arial.ttf</td>\n",
       "      <td>0</td>\n",
       "      <td>255</td>\n",
       "      <td>255</td>\n",
       "      <td>255</td>\n",
       "      <td>255</td>\n",
       "      <td>255</td>\n",
       "      <td>255</td>\n",
       "      <td>255</td>\n",
       "      <td>255</td>\n",
       "      <td>...</td>\n",
       "      <td>255</td>\n",
       "      <td>255</td>\n",
       "      <td>255</td>\n",
       "      <td>255</td>\n",
       "      <td>255</td>\n",
       "      <td>255</td>\n",
       "      <td>255</td>\n",
       "      <td>255</td>\n",
       "      <td>255</td>\n",
       "      <td>255</td>\n",
       "    </tr>\n",
       "    <tr>\n",
       "      <th>3</th>\n",
       "      <td>Arial.ttf</td>\n",
       "      <td>0</td>\n",
       "      <td>243</td>\n",
       "      <td>255</td>\n",
       "      <td>255</td>\n",
       "      <td>255</td>\n",
       "      <td>255</td>\n",
       "      <td>255</td>\n",
       "      <td>255</td>\n",
       "      <td>254</td>\n",
       "      <td>...</td>\n",
       "      <td>255</td>\n",
       "      <td>255</td>\n",
       "      <td>255</td>\n",
       "      <td>255</td>\n",
       "      <td>255</td>\n",
       "      <td>255</td>\n",
       "      <td>255</td>\n",
       "      <td>255</td>\n",
       "      <td>255</td>\n",
       "      <td>255</td>\n",
       "    </tr>\n",
       "    <tr>\n",
       "      <th>4</th>\n",
       "      <td>Arial.ttf</td>\n",
       "      <td>0</td>\n",
       "      <td>255</td>\n",
       "      <td>255</td>\n",
       "      <td>255</td>\n",
       "      <td>255</td>\n",
       "      <td>255</td>\n",
       "      <td>255</td>\n",
       "      <td>255</td>\n",
       "      <td>255</td>\n",
       "      <td>...</td>\n",
       "      <td>255</td>\n",
       "      <td>255</td>\n",
       "      <td>255</td>\n",
       "      <td>255</td>\n",
       "      <td>255</td>\n",
       "      <td>255</td>\n",
       "      <td>255</td>\n",
       "      <td>255</td>\n",
       "      <td>255</td>\n",
       "      <td>255</td>\n",
       "    </tr>\n",
       "  </tbody>\n",
       "</table>\n",
       "<p>5 rows × 1026 columns</p>\n",
       "</div>"
      ]
     },
     "execution_count": 42,
     "metadata": {},
     "output_type": "execute_result"
    }
   ],
   "execution_count": 42
  },
  {
   "metadata": {
    "ExecuteTime": {
     "end_time": "2024-10-01T22:13:34.285567Z",
     "start_time": "2024-10-01T22:13:34.280818Z"
    }
   },
   "cell_type": "code",
   "source": [
    "arr = np.array(df['fonts'])\n",
    "classes = pd.unique(arr)\n",
    "print(len(classes))"
   ],
   "id": "37b6dc8049fa4929",
   "outputs": [
    {
     "name": "stdout",
     "output_type": "stream",
     "text": [
      "122\n"
     ]
    }
   ],
   "execution_count": 43
  },
  {
   "metadata": {
    "ExecuteTime": {
     "end_time": "2024-10-01T22:16:02.775498Z",
     "start_time": "2024-10-01T22:16:02.755588Z"
    }
   },
   "cell_type": "code",
   "source": [
    "X = df.drop(columns=['fonts',\"index\"])\n",
    "y = df['fonts']\n",
    "le = LabelEncoder()\n",
    "y = le.fit_transform(y)"
   ],
   "id": "c1e0341131babad7",
   "outputs": [],
   "execution_count": 61
  },
  {
   "metadata": {
    "ExecuteTime": {
     "end_time": "2024-10-01T22:13:36.656051Z",
     "start_time": "2024-10-01T22:13:36.608868Z"
    }
   },
   "cell_type": "code",
   "source": "X_train, X_test, y_train, y_test = train_test_split(X, y, test_size=0.2, random_state=35)",
   "id": "3076405538b2aa67",
   "outputs": [],
   "execution_count": 45
  },
  {
   "metadata": {
    "ExecuteTime": {
     "end_time": "2024-10-01T22:13:37.878022Z",
     "start_time": "2024-10-01T22:13:37.845484Z"
    }
   },
   "cell_type": "code",
   "source": [
    "X_train = np.array(X_train / 255.0)\n",
    "X_test = np.array(X_test / 255.0)\n",
    "print(X_train.shape)\n",
    "print(X_train)"
   ],
   "id": "15324fc9174cbabb",
   "outputs": [
    {
     "name": "stdout",
     "output_type": "stream",
     "text": [
      "(6051, 1024)\n",
      "[[1. 1. 1. ... 1. 1. 1.]\n",
      " [1. 1. 1. ... 1. 1. 1.]\n",
      " [1. 1. 1. ... 1. 1. 1.]\n",
      " ...\n",
      " [1. 1. 1. ... 1. 1. 1.]\n",
      " [1. 1. 1. ... 1. 1. 1.]\n",
      " [1. 1. 1. ... 1. 1. 1.]]\n"
     ]
    }
   ],
   "execution_count": 46
  },
  {
   "metadata": {
    "ExecuteTime": {
     "end_time": "2024-10-01T22:13:38.779868Z",
     "start_time": "2024-10-01T22:13:38.775604Z"
    }
   },
   "cell_type": "code",
   "source": [
    "X_train = X_train.reshape(X_train.shape[0], 32, 32)\n",
    "X_test = X_test.reshape(X_test.shape[0], 32, 32)"
   ],
   "id": "926cbe9341255d71",
   "outputs": [],
   "execution_count": 47
  },
  {
   "metadata": {
    "ExecuteTime": {
     "end_time": "2024-10-01T22:15:30.897293Z",
     "start_time": "2024-10-01T22:15:30.788596Z"
    }
   },
   "cell_type": "code",
   "source": [
    "plt.figure(figsize=(5,5))\n",
    "plt.imshow(X_train[1])\n",
    "plt.colorbar()\n",
    "plt.grid(False)\n",
    "plt.show()"
   ],
   "id": "e5b8f357fae31c77",
   "outputs": [
    {
     "data": {
      "text/plain": [
       "<Figure size 500x500 with 2 Axes>"
      ],
      "image/png": "[encoded data removed]"
     },
     "metadata": {},
     "output_type": "display_data"
    }
   ],
   "execution_count": 59
  },
  {
   "metadata": {
    "ExecuteTime": {
     "end_time": "2024-10-01T22:14:19.576108Z",
     "start_time": "2024-10-01T22:14:19.570588Z"
    }
   },
   "cell_type": "code",
   "source": [
    "model = tf.keras.Sequential([\n",
    "    tf.keras.layers.Flatten(),\n",
    "    tf.keras.layers.Dense(128, activation='relu'),\n",
    "    tf.keras.layers.Dense(len(classes))\n",
    "])"
   ],
   "id": "7d7a55610a2a3203",
   "outputs": [],
   "execution_count": 56
  },
  {
   "metadata": {
    "ExecuteTime": {
     "end_time": "2024-10-01T22:14:20.020988Z",
     "start_time": "2024-10-01T22:14:20.014408Z"
    }
   },
   "cell_type": "code",
   "source": "model.compile(optimizer='adam',loss=tf.keras.losses.SparseCategoricalCrossentropy(from_logits=True),metrics=['accuracy'])",
   "id": "6889f9febdd8c8bd",
   "outputs": [],
   "execution_count": 57
  },
  {
   "metadata": {
    "ExecuteTime": {
     "end_time": "2024-10-01T22:14:24.027762Z",
     "start_time": "2024-10-01T22:14:20.903378Z"
    }
   },
   "cell_type": "code",
   "source": "model.fit(X_train, y_train, epochs=10)",
   "id": "299936089aa218f5",
   "outputs": [
    {
     "name": "stdout",
     "output_type": "stream",
     "text": [
      "Epoch 1/10\n",
      "\u001B[1m190/190\u001B[0m \u001B[32m━━━━━━━━━━━━━━━━━━━━\u001B[0m\u001B[37m\u001B[0m \u001B[1m1s\u001B[0m 1ms/step - accuracy: 0.0088 - loss: 4.8566\n",
      "Epoch 2/10\n",
      "\u001B[1m190/190\u001B[0m \u001B[32m━━━━━━━━━━━━━━━━━━━━\u001B[0m\u001B[37m\u001B[0m \u001B[1m0s\u001B[0m 1ms/step - accuracy: 0.0062 - loss: 4.8040\n",
      "Epoch 3/10\n",
      "\u001B[1m190/190\u001B[0m \u001B[32m━━━━━━━━━━━━━━━━━━━━\u001B[0m\u001B[37m\u001B[0m \u001B[1m0s\u001B[0m 1ms/step - accuracy: 0.0104 - loss: 4.8035\n",
      "Epoch 4/10\n",
      "\u001B[1m190/190\u001B[0m \u001B[32m━━━━━━━━━━━━━━━━━━━━\u001B[0m\u001B[37m\u001B[0m \u001B[1m0s\u001B[0m 1ms/step - accuracy: 0.0072 - loss: 4.8034\n",
      "Epoch 5/10\n",
      "\u001B[1m190/190\u001B[0m \u001B[32m━━━━━━━━━━━━━━━━━━━━\u001B[0m\u001B[37m\u001B[0m \u001B[1m0s\u001B[0m 1ms/step - accuracy: 0.0102 - loss: 4.8034\n",
      "Epoch 6/10\n",
      "\u001B[1m190/190\u001B[0m \u001B[32m━━━━━━━━━━━━━━━━━━━━\u001B[0m\u001B[37m\u001B[0m \u001B[1m0s\u001B[0m 1ms/step - accuracy: 0.0096 - loss: 4.8031\n",
      "Epoch 7/10\n",
      "\u001B[1m190/190\u001B[0m \u001B[32m━━━━━━━━━━━━━━━━━━━━\u001B[0m\u001B[37m\u001B[0m \u001B[1m0s\u001B[0m 1ms/step - accuracy: 0.0076 - loss: 4.8029\n",
      "Epoch 8/10\n",
      "\u001B[1m190/190\u001B[0m \u001B[32m━━━━━━━━━━━━━━━━━━━━\u001B[0m\u001B[37m\u001B[0m \u001B[1m0s\u001B[0m 1ms/step - accuracy: 0.0081 - loss: 4.8030\n",
      "Epoch 9/10\n",
      "\u001B[1m190/190\u001B[0m \u001B[32m━━━━━━━━━━━━━━━━━━━━\u001B[0m\u001B[37m\u001B[0m \u001B[1m0s\u001B[0m 1ms/step - accuracy: 0.0058 - loss: 4.8035\n",
      "Epoch 10/10\n",
      "\u001B[1m190/190\u001B[0m \u001B[32m━━━━━━━━━━━━━━━━━━━━\u001B[0m\u001B[37m\u001B[0m \u001B[1m0s\u001B[0m 1ms/step - accuracy: 0.0084 - loss: 4.8037\n"
     ]
    },
    {
     "data": {
      "text/plain": [
       "<keras.src.callbacks.history.History at 0x174c6736a50>"
      ]
     },
     "execution_count": 58,
     "metadata": {},
     "output_type": "execute_result"
    }
   ],
   "execution_count": 58
  },
  {
   "metadata": {
    "ExecuteTime": {
     "end_time": "2024-10-01T22:13:55.992935Z",
     "start_time": "2024-10-01T22:13:55.985420Z"
    }
   },
   "cell_type": "code",
   "source": "probability_model = tf.keras.Sequential([model,tf.keras.layers.Softmax()]) ",
   "id": "32f790fa2d7d9005",
   "outputs": [],
   "execution_count": 52
  },
  {
   "metadata": {
    "ExecuteTime": {
     "end_time": "2024-10-01T22:13:56.641195Z",
     "start_time": "2024-10-01T22:13:56.476212Z"
    }
   },
   "cell_type": "code",
   "source": "predictions = probability_model.predict(X_test)",
   "id": "e26bfd891a74eb8e",
   "outputs": [
    {
     "name": "stdout",
     "output_type": "stream",
     "text": [
      "\u001B[1m48/48\u001B[0m \u001B[32m━━━━━━━━━━━━━━━━━━━━\u001B[0m\u001B[37m\u001B[0m \u001B[1m0s\u001B[0m 1ms/step\n"
     ]
    }
   ],
   "execution_count": 53
  },
  {
   "metadata": {
    "ExecuteTime": {
     "end_time": "2024-10-01T22:13:57.020583Z",
     "start_time": "2024-10-01T22:13:57.015470Z"
    }
   },
   "cell_type": "code",
   "source": "classes[np.argmax(predictions[2])]",
   "id": "c538963103dec204",
   "outputs": [
    {
     "data": {
      "text/plain": [
       "'Consolai.ttf'"
      ]
     },
     "execution_count": 54,
     "metadata": {},
     "output_type": "execute_result"
    }
   ],
   "execution_count": 54
  },
  {
   "metadata": {
    "ExecuteTime": {
     "end_time": "2024-10-01T22:13:57.401326Z",
     "start_time": "2024-10-01T22:13:57.396018Z"
    }
   },
   "cell_type": "code",
   "source": "classes[y_test[2]]",
   "id": "ff5f339e19d573d2",
   "outputs": [
    {
     "data": {
      "text/plain": [
       "'Courbi.ttf'"
      ]
     },
     "execution_count": 55,
     "metadata": {},
     "output_type": "execute_result"
    }
   ],
   "execution_count": 55
  },
  {
   "metadata": {},
   "cell_type": "code",
   "outputs": [],
   "execution_count": null,
   "source": "",
   "id": "1ad7bf53a5340ff1"
  }
 ],
 "metadata": {
  "kernelspec": {
   "display_name": "Python 3",
   "language": "python",
   "name": "python3"
  },
  "language_info": {
   "codemirror_mode": {
    "name": "ipython",
    "version": 2
   },
   "file_extension": ".py",
   "mimetype": "text/x-python",
   "name": "python",
   "nbconvert_exporter": "python",
   "pygments_lexer": "ipython2",
   "version": "2.7.6"
  }
 },
 "nbformat": 4,
 "nbformat_minor": 5
}
