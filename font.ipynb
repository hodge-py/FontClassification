{
 "cells": [
  {
   "cell_type": "code",
   "id": "initial_id",
   "metadata": {
    "collapsed": true,
    "ExecuteTime": {
     "end_time": "2024-09-07T18:43:19.077008Z",
     "start_time": "2024-09-07T18:42:59.729885Z"
    }
   },
   "source": [
    "import tensorflow as tf\n",
    "import pandas as pd\n",
    "# Helper libraries\n",
    "import numpy as np\n",
    "import matplotlib.pyplot as plt\n",
    "from sklearn.model_selection import train_test_split\n",
    "from sklearn.preprocessing import LabelEncoder\n",
    "import glob\n",
    "\n",
    "print(tf.__version__)"
   ],
   "outputs": [
    {
     "name": "stdout",
     "output_type": "stream",
     "text": [
      "2.17.0\n"
     ]
    }
   ],
   "execution_count": 2
  },
  {
   "metadata": {
    "ExecuteTime": {
     "end_time": "2024-09-07T18:44:05.976379Z",
     "start_time": "2024-09-07T18:43:45.306078Z"
    }
   },
   "cell_type": "code",
   "source": [
    "\"\"\"\n",
    "csv_files = glob.glob('*.{}'.format('csv'),root_dir=\"./fonts\")\n",
    "for file in csv_files:\n",
    "    df_csv_append = pd.read_csv(\"./fonts/\" + file)\n",
    "    df = pd.concat([df,df_csv_append], ignore_index=True)\n",
    "\"\"\"\n",
    "df = pd.read_csv(\"fonts-typography.csv\")"
   ],
   "id": "9e83fb10ad6c3a04",
   "outputs": [],
   "execution_count": 5
  },
  {
   "metadata": {
    "ExecuteTime": {
     "end_time": "2024-09-07T18:44:12.800786Z",
     "start_time": "2024-09-07T18:44:12.784377Z"
    }
   },
   "cell_type": "code",
   "source": "df.head()",
   "id": "f492696bca1b8a56",
   "outputs": [
    {
     "data": {
      "text/plain": [
       "     font fontVariant  m_label  strength  italic  orientation  m_top  m_left  \\\n",
       "0  AGENCY   AGENCY FB    64258       0.4       0          0.0     35      21   \n",
       "1  AGENCY   AGENCY FB    64257       0.4       0          0.0     35      21   \n",
       "2  AGENCY   AGENCY FB    61442       0.4       0          0.0     35      21   \n",
       "3  AGENCY   AGENCY FB    61441       0.4       0          0.0     35      21   \n",
       "4  AGENCY   AGENCY FB     9674       0.4       0          0.0     51      21   \n",
       "\n",
       "   originalH  originalW  ...  r19c10  r19c11  r19c12  r19c13  r19c14  r19c15  \\\n",
       "0         51         22  ...       1       1       1       1       1       1   \n",
       "1         51         22  ...       1       1       1       1       1       1   \n",
       "2         51         22  ...       1       1       1       1       1       1   \n",
       "3         51         22  ...       1       1       1       1       1       1   \n",
       "4         33         25  ...     255     132       1       1       1       1   \n",
       "\n",
       "   r19c16  r19c17  r19c18  r19c19  \n",
       "0     163     255     255     255  \n",
       "1     163     255     255     255  \n",
       "2     163     255     255     255  \n",
       "3     163     255     255     255  \n",
       "4       1       1       1       1  \n",
       "\n",
       "[5 rows x 412 columns]"
      ],
      "text/html": [
       "<div>\n",
       "<style scoped>\n",
       "    .dataframe tbody tr th:only-of-type {\n",
       "        vertical-align: middle;\n",
       "    }\n",
       "\n",
       "    .dataframe tbody tr th {\n",
       "        vertical-align: top;\n",
       "    }\n",
       "\n",
       "    .dataframe thead th {\n",
       "        text-align: right;\n",
       "    }\n",
       "</style>\n",
       "<table border=\"1\" class=\"dataframe\">\n",
       "  <thead>\n",
       "    <tr style=\"text-align: right;\">\n",
       "      <th></th>\n",
       "      <th>font</th>\n",
       "      <th>fontVariant</th>\n",
       "      <th>m_label</th>\n",
       "      <th>strength</th>\n",
       "      <th>italic</th>\n",
       "      <th>orientation</th>\n",
       "      <th>m_top</th>\n",
       "      <th>m_left</th>\n",
       "      <th>originalH</th>\n",
       "      <th>originalW</th>\n",
       "      <th>...</th>\n",
       "      <th>r19c10</th>\n",
       "      <th>r19c11</th>\n",
       "      <th>r19c12</th>\n",
       "      <th>r19c13</th>\n",
       "      <th>r19c14</th>\n",
       "      <th>r19c15</th>\n",
       "      <th>r19c16</th>\n",
       "      <th>r19c17</th>\n",
       "      <th>r19c18</th>\n",
       "      <th>r19c19</th>\n",
       "    </tr>\n",
       "  </thead>\n",
       "  <tbody>\n",
       "    <tr>\n",
       "      <th>0</th>\n",
       "      <td>AGENCY</td>\n",
       "      <td>AGENCY FB</td>\n",
       "      <td>64258</td>\n",
       "      <td>0.4</td>\n",
       "      <td>0</td>\n",
       "      <td>0.0</td>\n",
       "      <td>35</td>\n",
       "      <td>21</td>\n",
       "      <td>51</td>\n",
       "      <td>22</td>\n",
       "      <td>...</td>\n",
       "      <td>1</td>\n",
       "      <td>1</td>\n",
       "      <td>1</td>\n",
       "      <td>1</td>\n",
       "      <td>1</td>\n",
       "      <td>1</td>\n",
       "      <td>163</td>\n",
       "      <td>255</td>\n",
       "      <td>255</td>\n",
       "      <td>255</td>\n",
       "    </tr>\n",
       "    <tr>\n",
       "      <th>1</th>\n",
       "      <td>AGENCY</td>\n",
       "      <td>AGENCY FB</td>\n",
       "      <td>64257</td>\n",
       "      <td>0.4</td>\n",
       "      <td>0</td>\n",
       "      <td>0.0</td>\n",
       "      <td>35</td>\n",
       "      <td>21</td>\n",
       "      <td>51</td>\n",
       "      <td>22</td>\n",
       "      <td>...</td>\n",
       "      <td>1</td>\n",
       "      <td>1</td>\n",
       "      <td>1</td>\n",
       "      <td>1</td>\n",
       "      <td>1</td>\n",
       "      <td>1</td>\n",
       "      <td>163</td>\n",
       "      <td>255</td>\n",
       "      <td>255</td>\n",
       "      <td>255</td>\n",
       "    </tr>\n",
       "    <tr>\n",
       "      <th>2</th>\n",
       "      <td>AGENCY</td>\n",
       "      <td>AGENCY FB</td>\n",
       "      <td>61442</td>\n",
       "      <td>0.4</td>\n",
       "      <td>0</td>\n",
       "      <td>0.0</td>\n",
       "      <td>35</td>\n",
       "      <td>21</td>\n",
       "      <td>51</td>\n",
       "      <td>22</td>\n",
       "      <td>...</td>\n",
       "      <td>1</td>\n",
       "      <td>1</td>\n",
       "      <td>1</td>\n",
       "      <td>1</td>\n",
       "      <td>1</td>\n",
       "      <td>1</td>\n",
       "      <td>163</td>\n",
       "      <td>255</td>\n",
       "      <td>255</td>\n",
       "      <td>255</td>\n",
       "    </tr>\n",
       "    <tr>\n",
       "      <th>3</th>\n",
       "      <td>AGENCY</td>\n",
       "      <td>AGENCY FB</td>\n",
       "      <td>61441</td>\n",
       "      <td>0.4</td>\n",
       "      <td>0</td>\n",
       "      <td>0.0</td>\n",
       "      <td>35</td>\n",
       "      <td>21</td>\n",
       "      <td>51</td>\n",
       "      <td>22</td>\n",
       "      <td>...</td>\n",
       "      <td>1</td>\n",
       "      <td>1</td>\n",
       "      <td>1</td>\n",
       "      <td>1</td>\n",
       "      <td>1</td>\n",
       "      <td>1</td>\n",
       "      <td>163</td>\n",
       "      <td>255</td>\n",
       "      <td>255</td>\n",
       "      <td>255</td>\n",
       "    </tr>\n",
       "    <tr>\n",
       "      <th>4</th>\n",
       "      <td>AGENCY</td>\n",
       "      <td>AGENCY FB</td>\n",
       "      <td>9674</td>\n",
       "      <td>0.4</td>\n",
       "      <td>0</td>\n",
       "      <td>0.0</td>\n",
       "      <td>51</td>\n",
       "      <td>21</td>\n",
       "      <td>33</td>\n",
       "      <td>25</td>\n",
       "      <td>...</td>\n",
       "      <td>255</td>\n",
       "      <td>132</td>\n",
       "      <td>1</td>\n",
       "      <td>1</td>\n",
       "      <td>1</td>\n",
       "      <td>1</td>\n",
       "      <td>1</td>\n",
       "      <td>1</td>\n",
       "      <td>1</td>\n",
       "      <td>1</td>\n",
       "    </tr>\n",
       "  </tbody>\n",
       "</table>\n",
       "<p>5 rows × 412 columns</p>\n",
       "</div>"
      ]
     },
     "execution_count": 6,
     "metadata": {},
     "output_type": "execute_result"
    }
   ],
   "execution_count": 6
  },
  {
   "metadata": {
    "ExecuteTime": {
     "end_time": "2024-09-07T18:44:16.334172Z",
     "start_time": "2024-09-07T18:44:16.298136Z"
    }
   },
   "cell_type": "code",
   "source": [
    "arr = np.array(df['font'])\n",
    "classes = pd.unique(arr)\n",
    "print(len(classes))"
   ],
   "id": "37b6dc8049fa4929",
   "outputs": [
    {
     "name": "stdout",
     "output_type": "stream",
     "text": [
      "153\n"
     ]
    }
   ],
   "execution_count": 7
  },
  {
   "metadata": {
    "ExecuteTime": {
     "end_time": "2024-09-07T18:44:18.673067Z",
     "start_time": "2024-09-07T18:44:18.177341Z"
    }
   },
   "cell_type": "code",
   "source": [
    "X = df.drop(columns=['font',\"fontVariant\",\"m_label\",\"strength\",\"italic\",\"orientation\",\"m_top\",\"m_left\",\"originalH\",\"originalW\",\"h\",\"w\"])\n",
    "y = df['font']\n",
    "le = LabelEncoder()\n",
    "y = le.fit_transform(y)"
   ],
   "id": "c1e0341131babad7",
   "outputs": [],
   "execution_count": 8
  },
  {
   "metadata": {
    "ExecuteTime": {
     "end_time": "2024-09-07T18:44:22.811043Z",
     "start_time": "2024-09-07T18:44:19.797537Z"
    }
   },
   "cell_type": "code",
   "source": "X_train, X_test, y_train, y_test = train_test_split(X, y, test_size=0.2, random_state=35)",
   "id": "3076405538b2aa67",
   "outputs": [],
   "execution_count": 9
  },
  {
   "metadata": {
    "ExecuteTime": {
     "end_time": "2024-09-07T18:44:25.066594Z",
     "start_time": "2024-09-07T18:44:23.560884Z"
    }
   },
   "cell_type": "code",
   "source": [
    "X_train = np.array(X_train / 255.0)\n",
    "X_test = np.array(X_test / 255.0)"
   ],
   "id": "15324fc9174cbabb",
   "outputs": [],
   "execution_count": 10
  },
  {
   "metadata": {
    "ExecuteTime": {
     "end_time": "2024-09-07T18:44:25.697724Z",
     "start_time": "2024-09-07T18:44:25.694771Z"
    }
   },
   "cell_type": "code",
   "source": [
    "X_train = X_train.reshape(X_train.shape[0], 20, 20)\n",
    "X_test = X_test.reshape(X_test.shape[0], 20, 20)"
   ],
   "id": "926cbe9341255d71",
   "outputs": [],
   "execution_count": 11
  },
  {
   "metadata": {
    "ExecuteTime": {
     "end_time": "2024-09-07T18:47:18.372228Z",
     "start_time": "2024-09-07T18:47:18.274804Z"
    }
   },
   "cell_type": "code",
   "source": [
    "plt.figure(figsize=(5,5))\n",
    "plt.imshow(X_train[0])\n",
    "plt.colorbar()\n",
    "plt.grid(False)\n",
    "plt.show()"
   ],
   "id": "e5b8f357fae31c77",
   "outputs": [
    {
     "data": {
      "text/plain": [
       "<Figure size 500x500 with 2 Axes>"
      ],
      "image/png": "[encoded data removed]"
     },
     "metadata": {},
     "output_type": "display_data"
    }
   ],
   "execution_count": 29
  },
  {
   "metadata": {
    "ExecuteTime": {
     "end_time": "2024-09-07T18:58:23.113728Z",
     "start_time": "2024-09-07T18:58:23.108578Z"
    }
   },
   "cell_type": "code",
   "source": [
    "model = tf.keras.Sequential([\n",
    "    tf.keras.layers.Flatten(),\n",
    "    tf.keras.layers.Dense(128, activation='relu'),\n",
    "    tf.keras.layers.Dense(153)\n",
    "])"
   ],
   "id": "7d7a55610a2a3203",
   "outputs": [],
   "execution_count": 50
  },
  {
   "metadata": {
    "ExecuteTime": {
     "end_time": "2024-09-07T18:58:23.437193Z",
     "start_time": "2024-09-07T18:58:23.430991Z"
    }
   },
   "cell_type": "code",
   "source": "model.compile(optimizer='adam',loss=tf.keras.losses.SparseCategoricalCrossentropy(from_logits=True),metrics=['accuracy'])",
   "id": "6889f9febdd8c8bd",
   "outputs": [],
   "execution_count": 51
  },
  {
   "metadata": {
    "ExecuteTime": {
     "end_time": "2024-09-07T19:00:55.755169Z",
     "start_time": "2024-09-07T18:58:24.676476Z"
    }
   },
   "cell_type": "code",
   "source": "model.fit(X_train, y_train, epochs=10)",
   "id": "299936089aa218f5",
   "outputs": [
    {
     "name": "stdout",
     "output_type": "stream",
     "text": [
      "Epoch 1/10\n",
      "\u001B[1m20817/20817\u001B[0m \u001B[32m━━━━━━━━━━━━━━━━━━━━\u001B[0m\u001B[37m\u001B[0m \u001B[1m17s\u001B[0m 764us/step - accuracy: 0.3548 - loss: 2.9727\n",
      "Epoch 2/10\n",
      "\u001B[1m20817/20817\u001B[0m \u001B[32m━━━━━━━━━━━━━━━━━━━━\u001B[0m\u001B[37m\u001B[0m \u001B[1m16s\u001B[0m 753us/step - accuracy: 0.4409 - loss: 2.4274\n",
      "Epoch 3/10\n",
      "\u001B[1m20817/20817\u001B[0m \u001B[32m━━━━━━━━━━━━━━━━━━━━\u001B[0m\u001B[37m\u001B[0m \u001B[1m14s\u001B[0m 690us/step - accuracy: 0.4548 - loss: 2.3428\n",
      "Epoch 4/10\n",
      "\u001B[1m20817/20817\u001B[0m \u001B[32m━━━━━━━━━━━━━━━━━━━━\u001B[0m\u001B[37m\u001B[0m \u001B[1m15s\u001B[0m 698us/step - accuracy: 0.4620 - loss: 2.2992\n",
      "Epoch 5/10\n",
      "\u001B[1m20817/20817\u001B[0m \u001B[32m━━━━━━━━━━━━━━━━━━━━\u001B[0m\u001B[37m\u001B[0m \u001B[1m14s\u001B[0m 693us/step - accuracy: 0.4666 - loss: 2.2730\n",
      "Epoch 6/10\n",
      "\u001B[1m20817/20817\u001B[0m \u001B[32m━━━━━━━━━━━━━━━━━━━━\u001B[0m\u001B[37m\u001B[0m \u001B[1m15s\u001B[0m 696us/step - accuracy: 0.4695 - loss: 2.2545\n",
      "Epoch 7/10\n",
      "\u001B[1m20817/20817\u001B[0m \u001B[32m━━━━━━━━━━━━━━━━━━━━\u001B[0m\u001B[37m\u001B[0m \u001B[1m15s\u001B[0m 700us/step - accuracy: 0.4720 - loss: 2.2427\n",
      "Epoch 8/10\n",
      "\u001B[1m20817/20817\u001B[0m \u001B[32m━━━━━━━━━━━━━━━━━━━━\u001B[0m\u001B[37m\u001B[0m \u001B[1m15s\u001B[0m 716us/step - accuracy: 0.4720 - loss: 2.2307\n",
      "Epoch 9/10\n",
      "\u001B[1m20817/20817\u001B[0m \u001B[32m━━━━━━━━━━━━━━━━━━━━\u001B[0m\u001B[37m\u001B[0m \u001B[1m15s\u001B[0m 740us/step - accuracy: 0.4737 - loss: 2.2220\n",
      "Epoch 10/10\n",
      "\u001B[1m20817/20817\u001B[0m \u001B[32m━━━━━━━━━━━━━━━━━━━━\u001B[0m\u001B[37m\u001B[0m \u001B[1m15s\u001B[0m 717us/step - accuracy: 0.4752 - loss: 2.2199\n"
     ]
    },
    {
     "data": {
      "text/plain": [
       "<keras.src.callbacks.history.History at 0x1511784e690>"
      ]
     },
     "execution_count": 52,
     "metadata": {},
     "output_type": "execute_result"
    }
   ],
   "execution_count": 52
  },
  {
   "metadata": {
    "ExecuteTime": {
     "end_time": "2024-09-07T19:01:04.293188Z",
     "start_time": "2024-09-07T19:01:04.286197Z"
    }
   },
   "cell_type": "code",
   "source": "probability_model = tf.keras.Sequential([model,tf.keras.layers.Softmax()]) ",
   "id": "32f790fa2d7d9005",
   "outputs": [],
   "execution_count": 53
  },
  {
   "metadata": {
    "ExecuteTime": {
     "end_time": "2024-09-07T19:01:16.777314Z",
     "start_time": "2024-09-07T19:01:12.251006Z"
    }
   },
   "cell_type": "code",
   "source": "predictions = probability_model.predict(X_test)",
   "id": "e26bfd891a74eb8e",
   "outputs": [
    {
     "name": "stdout",
     "output_type": "stream",
     "text": [
      "\u001B[1m5205/5205\u001B[0m \u001B[32m━━━━━━━━━━━━━━━━━━━━\u001B[0m\u001B[37m\u001B[0m \u001B[1m3s\u001B[0m 583us/step\n"
     ]
    }
   ],
   "execution_count": 56
  },
  {
   "metadata": {
    "ExecuteTime": {
     "end_time": "2024-09-07T19:01:18.463227Z",
     "start_time": "2024-09-07T19:01:18.458742Z"
    }
   },
   "cell_type": "code",
   "source": "classes[np.argmax(predictions[2])]",
   "id": "c538963103dec204",
   "outputs": [
    {
     "data": {
      "text/plain": [
       "'ARIAL'"
      ]
     },
     "execution_count": 57,
     "metadata": {},
     "output_type": "execute_result"
    }
   ],
   "execution_count": 57
  },
  {
   "metadata": {
    "ExecuteTime": {
     "end_time": "2024-09-07T19:01:19.046796Z",
     "start_time": "2024-09-07T19:01:19.042137Z"
    }
   },
   "cell_type": "code",
   "source": "classes[y_test[2]]",
   "id": "ff5f339e19d573d2",
   "outputs": [
    {
     "data": {
      "text/plain": [
       "'ARIAL'"
      ]
     },
     "execution_count": 58,
     "metadata": {},
     "output_type": "execute_result"
    }
   ],
   "execution_count": 58
  },
  {
   "metadata": {},
   "cell_type": "code",
   "outputs": [],
   "execution_count": null,
   "source": "",
   "id": "1ad7bf53a5340ff1"
  }
 ],
 "metadata": {
  "kernelspec": {
   "display_name": "Python 3",
   "language": "python",
   "name": "python3"
  },
  "language_info": {
   "codemirror_mode": {
    "name": "ipython",
    "version": 2
   },
   "file_extension": ".py",
   "mimetype": "text/x-python",
   "name": "python",
   "nbconvert_exporter": "python",
   "pygments_lexer": "ipython2",
   "version": "2.7.6"
  }
 },
 "nbformat": 4,
 "nbformat_minor": 5
}
