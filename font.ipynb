{
 "cells": [
  {
   "cell_type": "code",
   "id": "initial_id",
   "metadata": {
    "collapsed": true,
    "ExecuteTime": {
     "end_time": "2024-09-06T22:55:35.912852Z",
     "start_time": "2024-09-06T22:55:35.908837Z"
    }
   },
   "source": [
    "import tensorflow as tf\n",
    "import pandas as pd\n",
    "# Helper libraries\n",
    "import numpy as np\n",
    "import matplotlib.pyplot as plt\n",
    "from sklearn.model_selection import train_test_split\n",
    "from sklearn.preprocessing import LabelEncoder\n",
    "\n",
    "print(tf.__version__)"
   ],
   "outputs": [
    {
     "name": "stdout",
     "output_type": "stream",
     "text": [
      "2.17.0\n"
     ]
    }
   ],
   "execution_count": 47
  },
  {
   "metadata": {
    "ExecuteTime": {
     "end_time": "2024-09-06T22:48:13.653863Z",
     "start_time": "2024-09-06T22:47:55.003618Z"
    }
   },
   "cell_type": "code",
   "source": "df = pd.read_csv('Glyphs_TMNIST_updated.csv')",
   "id": "9e83fb10ad6c3a04",
   "outputs": [],
   "execution_count": 24
  },
  {
   "metadata": {
    "ExecuteTime": {
     "end_time": "2024-09-06T22:48:14.816440Z",
     "start_time": "2024-09-06T22:48:14.806701Z"
    }
   },
   "cell_type": "code",
   "source": "df.head()",
   "id": "f492696bca1b8a56",
   "outputs": [
    {
     "data": {
      "text/plain": [
       "         font_name              glyph_name label  1  2  3  4  5  6  7  ...  \\\n",
       "0  ABeeZee-Regular  LATIN CAPITAL LETTER A     A  0  0  0  0  0  0  0  ...   \n",
       "1  ABeeZee-Regular  LATIN CAPITAL LETTER B     B  0  0  0  0  0  0  0  ...   \n",
       "2  ABeeZee-Regular  LATIN CAPITAL LETTER C     C  0  0  0  0  0  0  0  ...   \n",
       "3  ABeeZee-Regular  LATIN CAPITAL LETTER D     D  0  0  0  0  0  0  0  ...   \n",
       "4  ABeeZee-Regular  LATIN CAPITAL LETTER E     E  0  0  0  0  0  0  0  ...   \n",
       "\n",
       "   775  776  777  778  779  780  781  782  783  784  \n",
       "0    0    0    0    0    0    0    0    0    0    0  \n",
       "1    0    0    0    0    0    0    0    0    0    0  \n",
       "2    0    0    0    0    0    0    0    0    0    0  \n",
       "3    0    0    0    0    0    0    0    0    0    0  \n",
       "4    0    0    0    0    0    0    0    0    0    0  \n",
       "\n",
       "[5 rows x 787 columns]"
      ],
      "text/html": [
       "<div>\n",
       "<style scoped>\n",
       "    .dataframe tbody tr th:only-of-type {\n",
       "        vertical-align: middle;\n",
       "    }\n",
       "\n",
       "    .dataframe tbody tr th {\n",
       "        vertical-align: top;\n",
       "    }\n",
       "\n",
       "    .dataframe thead th {\n",
       "        text-align: right;\n",
       "    }\n",
       "</style>\n",
       "<table border=\"1\" class=\"dataframe\">\n",
       "  <thead>\n",
       "    <tr style=\"text-align: right;\">\n",
       "      <th></th>\n",
       "      <th>font_name</th>\n",
       "      <th>glyph_name</th>\n",
       "      <th>label</th>\n",
       "      <th>1</th>\n",
       "      <th>2</th>\n",
       "      <th>3</th>\n",
       "      <th>4</th>\n",
       "      <th>5</th>\n",
       "      <th>6</th>\n",
       "      <th>7</th>\n",
       "      <th>...</th>\n",
       "      <th>775</th>\n",
       "      <th>776</th>\n",
       "      <th>777</th>\n",
       "      <th>778</th>\n",
       "      <th>779</th>\n",
       "      <th>780</th>\n",
       "      <th>781</th>\n",
       "      <th>782</th>\n",
       "      <th>783</th>\n",
       "      <th>784</th>\n",
       "    </tr>\n",
       "  </thead>\n",
       "  <tbody>\n",
       "    <tr>\n",
       "      <th>0</th>\n",
       "      <td>ABeeZee-Regular</td>\n",
       "      <td>LATIN CAPITAL LETTER A</td>\n",
       "      <td>A</td>\n",
       "      <td>0</td>\n",
       "      <td>0</td>\n",
       "      <td>0</td>\n",
       "      <td>0</td>\n",
       "      <td>0</td>\n",
       "      <td>0</td>\n",
       "      <td>0</td>\n",
       "      <td>...</td>\n",
       "      <td>0</td>\n",
       "      <td>0</td>\n",
       "      <td>0</td>\n",
       "      <td>0</td>\n",
       "      <td>0</td>\n",
       "      <td>0</td>\n",
       "      <td>0</td>\n",
       "      <td>0</td>\n",
       "      <td>0</td>\n",
       "      <td>0</td>\n",
       "    </tr>\n",
       "    <tr>\n",
       "      <th>1</th>\n",
       "      <td>ABeeZee-Regular</td>\n",
       "      <td>LATIN CAPITAL LETTER B</td>\n",
       "      <td>B</td>\n",
       "      <td>0</td>\n",
       "      <td>0</td>\n",
       "      <td>0</td>\n",
       "      <td>0</td>\n",
       "      <td>0</td>\n",
       "      <td>0</td>\n",
       "      <td>0</td>\n",
       "      <td>...</td>\n",
       "      <td>0</td>\n",
       "      <td>0</td>\n",
       "      <td>0</td>\n",
       "      <td>0</td>\n",
       "      <td>0</td>\n",
       "      <td>0</td>\n",
       "      <td>0</td>\n",
       "      <td>0</td>\n",
       "      <td>0</td>\n",
       "      <td>0</td>\n",
       "    </tr>\n",
       "    <tr>\n",
       "      <th>2</th>\n",
       "      <td>ABeeZee-Regular</td>\n",
       "      <td>LATIN CAPITAL LETTER C</td>\n",
       "      <td>C</td>\n",
       "      <td>0</td>\n",
       "      <td>0</td>\n",
       "      <td>0</td>\n",
       "      <td>0</td>\n",
       "      <td>0</td>\n",
       "      <td>0</td>\n",
       "      <td>0</td>\n",
       "      <td>...</td>\n",
       "      <td>0</td>\n",
       "      <td>0</td>\n",
       "      <td>0</td>\n",
       "      <td>0</td>\n",
       "      <td>0</td>\n",
       "      <td>0</td>\n",
       "      <td>0</td>\n",
       "      <td>0</td>\n",
       "      <td>0</td>\n",
       "      <td>0</td>\n",
       "    </tr>\n",
       "    <tr>\n",
       "      <th>3</th>\n",
       "      <td>ABeeZee-Regular</td>\n",
       "      <td>LATIN CAPITAL LETTER D</td>\n",
       "      <td>D</td>\n",
       "      <td>0</td>\n",
       "      <td>0</td>\n",
       "      <td>0</td>\n",
       "      <td>0</td>\n",
       "      <td>0</td>\n",
       "      <td>0</td>\n",
       "      <td>0</td>\n",
       "      <td>...</td>\n",
       "      <td>0</td>\n",
       "      <td>0</td>\n",
       "      <td>0</td>\n",
       "      <td>0</td>\n",
       "      <td>0</td>\n",
       "      <td>0</td>\n",
       "      <td>0</td>\n",
       "      <td>0</td>\n",
       "      <td>0</td>\n",
       "      <td>0</td>\n",
       "    </tr>\n",
       "    <tr>\n",
       "      <th>4</th>\n",
       "      <td>ABeeZee-Regular</td>\n",
       "      <td>LATIN CAPITAL LETTER E</td>\n",
       "      <td>E</td>\n",
       "      <td>0</td>\n",
       "      <td>0</td>\n",
       "      <td>0</td>\n",
       "      <td>0</td>\n",
       "      <td>0</td>\n",
       "      <td>0</td>\n",
       "      <td>0</td>\n",
       "      <td>...</td>\n",
       "      <td>0</td>\n",
       "      <td>0</td>\n",
       "      <td>0</td>\n",
       "      <td>0</td>\n",
       "      <td>0</td>\n",
       "      <td>0</td>\n",
       "      <td>0</td>\n",
       "      <td>0</td>\n",
       "      <td>0</td>\n",
       "      <td>0</td>\n",
       "    </tr>\n",
       "  </tbody>\n",
       "</table>\n",
       "<p>5 rows × 787 columns</p>\n",
       "</div>"
      ]
     },
     "execution_count": 25,
     "metadata": {},
     "output_type": "execute_result"
    }
   ],
   "execution_count": 25
  },
  {
   "metadata": {
    "ExecuteTime": {
     "end_time": "2024-09-06T22:59:28.985884Z",
     "start_time": "2024-09-06T22:59:28.948797Z"
    }
   },
   "cell_type": "code",
   "source": [
    "arr = np.array(df['font_name'])\n",
    "classes = pd.unique(arr)"
   ],
   "id": "37b6dc8049fa4929",
   "outputs": [
    {
     "name": "stdout",
     "output_type": "stream",
     "text": [
      "3019\n"
     ]
    }
   ],
   "execution_count": 60
  },
  {
   "metadata": {
    "ExecuteTime": {
     "end_time": "2024-09-06T23:12:38.696487Z",
     "start_time": "2024-09-06T23:12:37.851932Z"
    }
   },
   "cell_type": "code",
   "source": [
    "X = df.drop(columns=['font_name',\"glyph_name\",\"label\"])\n",
    "y = df['font_name']\n",
    "le = LabelEncoder()\n",
    "y = le.fit_transform(y)"
   ],
   "id": "c1e0341131babad7",
   "outputs": [],
   "execution_count": 74
  },
  {
   "metadata": {
    "ExecuteTime": {
     "end_time": "2024-09-06T22:56:47.903724Z",
     "start_time": "2024-09-06T22:56:44.682712Z"
    }
   },
   "cell_type": "code",
   "source": "X_train, X_test, y_train, y_test = train_test_split(X, y, test_size=0.2, random_state=35)",
   "id": "3076405538b2aa67",
   "outputs": [],
   "execution_count": 51
  },
  {
   "metadata": {
    "ExecuteTime": {
     "end_time": "2024-09-06T22:56:53.908242Z",
     "start_time": "2024-09-06T22:56:48.471370Z"
    }
   },
   "cell_type": "code",
   "source": [
    "X_train = np.array(X_train / 255.0)\n",
    "X_test = np.array(X_test / 255.0)"
   ],
   "id": "15324fc9174cbabb",
   "outputs": [],
   "execution_count": 52
  },
  {
   "metadata": {
    "ExecuteTime": {
     "end_time": "2024-09-06T22:56:53.916020Z",
     "start_time": "2024-09-06T22:56:53.912248Z"
    }
   },
   "cell_type": "code",
   "source": [
    "X_train = X_train.reshape(X_train.shape[0], 28, 28)\n",
    "X_test = X_test.reshape(X_test.shape[0], 28, 28)"
   ],
   "id": "926cbe9341255d71",
   "outputs": [],
   "execution_count": 53
  },
  {
   "metadata": {
    "ExecuteTime": {
     "end_time": "2024-09-06T22:56:54.859159Z",
     "start_time": "2024-09-06T22:56:54.753036Z"
    }
   },
   "cell_type": "code",
   "source": [
    "plt.figure(figsize=(5,5))\n",
    "plt.imshow(X_train[0])\n",
    "plt.colorbar()\n",
    "plt.grid(False)\n",
    "plt.show()"
   ],
   "id": "e5b8f357fae31c77",
   "outputs": [
    {
     "data": {
      "text/plain": [
       "<Figure size 500x500 with 2 Axes>"
      ],
      "image/png": "[encoded data removed]"
     },
     "metadata": {},
     "output_type": "display_data"
    }
   ],
   "execution_count": 54
  },
  {
   "metadata": {
    "ExecuteTime": {
     "end_time": "2024-09-06T23:18:32.238270Z",
     "start_time": "2024-09-06T23:18:32.232963Z"
    }
   },
   "cell_type": "code",
   "source": [
    "model = tf.keras.Sequential([\n",
    "    tf.keras.layers.Flatten(),\n",
    "    tf.keras.layers.Dense(120, activation='relu'),\n",
    "    tf.keras.layers.Dense(3019)\n",
    "])"
   ],
   "id": "7d7a55610a2a3203",
   "outputs": [],
   "execution_count": 92
  },
  {
   "metadata": {
    "ExecuteTime": {
     "end_time": "2024-09-06T23:18:32.381577Z",
     "start_time": "2024-09-06T23:18:32.374665Z"
    }
   },
   "cell_type": "code",
   "source": "model.compile(optimizer='adam',loss=tf.keras.losses.SparseCategoricalCrossentropy(from_logits=True),metrics=['accuracy'])",
   "id": "6889f9febdd8c8bd",
   "outputs": [],
   "execution_count": 93
  },
  {
   "metadata": {
    "ExecuteTime": {
     "end_time": "2024-09-06T23:18:18.789104900Z",
     "start_time": "2024-09-06T23:18:00.758409Z"
    }
   },
   "cell_type": "code",
   "source": "model.fit(X_train, y_train, epochs=3)",
   "id": "299936089aa218f5",
   "outputs": [
    {
     "name": "stdout",
     "output_type": "stream",
     "text": [
      "Epoch 1/3\n",
      "\u001B[1m 1330/14133\u001B[0m \u001B[32m━\u001B[0m\u001B[37m━━━━━━━━━━━━━━━━━━━\u001B[0m \u001B[1m47s\u001B[0m 4ms/step - accuracy: 0.0018 - loss: 7.8847"
     ]
    },
    {
     "name": "stderr",
     "output_type": "stream",
     "text": [
      "\n",
      "KeyboardInterrupt\n",
      "\n"
     ]
    }
   ],
   "execution_count": 89
  },
  {
   "metadata": {
    "ExecuteTime": {
     "end_time": "2024-09-06T23:05:23.260180Z",
     "start_time": "2024-09-06T23:05:23.251721Z"
    }
   },
   "cell_type": "code",
   "source": "probability_model = tf.keras.Sequential([model,tf.keras.layers.Softmax()]) ",
   "id": "32f790fa2d7d9005",
   "outputs": [],
   "execution_count": 64
  },
  {
   "metadata": {
    "ExecuteTime": {
     "end_time": "2024-09-06T23:05:39.599417Z",
     "start_time": "2024-09-06T23:05:34.957852Z"
    }
   },
   "cell_type": "code",
   "source": "predictions = probability_model.predict(X_test)",
   "id": "e26bfd891a74eb8e",
   "outputs": [
    {
     "name": "stdout",
     "output_type": "stream",
     "text": [
      "\u001B[1m3534/3534\u001B[0m \u001B[32m━━━━━━━━━━━━━━━━━━━━\u001B[0m\u001B[37m\u001B[0m \u001B[1m3s\u001B[0m 775us/step\n"
     ]
    }
   ],
   "execution_count": 66
  },
  {
   "metadata": {
    "ExecuteTime": {
     "end_time": "2024-09-06T23:07:13.487916Z",
     "start_time": "2024-09-06T23:07:13.483197Z"
    }
   },
   "cell_type": "code",
   "source": "classes[np.argmax(predictions[1])]",
   "id": "c538963103dec204",
   "outputs": [
    {
     "data": {
      "text/plain": [
       "'BarlowCondensed-ThinItalic'"
      ]
     },
     "execution_count": 71,
     "metadata": {},
     "output_type": "execute_result"
    }
   ],
   "execution_count": 71
  },
  {
   "metadata": {
    "ExecuteTime": {
     "end_time": "2024-09-06T23:07:16.797543Z",
     "start_time": "2024-09-06T23:07:16.792581Z"
    }
   },
   "cell_type": "code",
   "source": "classes[y_test[1]]",
   "id": "ff5f339e19d573d2",
   "outputs": [
    {
     "data": {
      "text/plain": [
       "'FiraSansExtraCondensed-Thin'"
      ]
     },
     "execution_count": 72,
     "metadata": {},
     "output_type": "execute_result"
    }
   ],
   "execution_count": 72
  },
  {
   "metadata": {},
   "cell_type": "code",
   "outputs": [],
   "execution_count": null,
   "source": "",
   "id": "1ad7bf53a5340ff1"
  }
 ],
 "metadata": {
  "kernelspec": {
   "display_name": "Python 3",
   "language": "python",
   "name": "python3"
  },
  "language_info": {
   "codemirror_mode": {
    "name": "ipython",
    "version": 2
   },
   "file_extension": ".py",
   "mimetype": "text/x-python",
   "name": "python",
   "nbconvert_exporter": "python",
   "pygments_lexer": "ipython2",
   "version": "2.7.6"
  }
 },
 "nbformat": 4,
 "nbformat_minor": 5
}
